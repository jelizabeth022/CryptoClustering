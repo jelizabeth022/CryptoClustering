# Import required libraries and dependencies
import pandas as pd
import hvplot.pandas
import os
os.environ["OMP_NUM_THREADS"] = "1"
from sklearn.cluster import KMeans
from sklearn.decomposition import PCA
from sklearn.preprocessing import StandardScaler


# Load the data into a Pandas DataFrame
df_market_data = pd.read_csv(
    "Resources/crypto_market_data.csv",
    index_col="coin_id")

# Display sample data
df_market_data.head(10)


# Generate summary statistics
df_market_data.describe()


# Plot your data to see what's in your DataFrame
df_market_data.hvplot.line(
    width=800,
    height=400,
    rot=90
)








# Use the `StandardScaler()` module from scikit-learn to normalize the data from the CSV file
scaler = StandardScaler()
df_market_data_scaled_array = scaler.fit_transform(df_market_data)


# Create a DataFrame with the scaled data
df_market_data_scaled = pd.DataFrame(df_market_data_scaled_array, columns=df_market_data.columns)

# Copy the crypto names from the original DataFrame
crypto_names = df_market_data.index

# Set the coin_id column as index
df_market_data_scaled['coin_id'] = crypto_names
df_market_data_scaled = df_market_data_scaled.set_index('coin_id')

# Display the scaled DataFrame
df_market_data_scaled.head()








# Create a list with the number of k-values from 1 to 11
k_values = list(range(1, 12))


# Create an empty list to store the inertia values
inertia = []

# Create a for loop to compute the inertia with each possible value of k
for k in range(1, 12):
    # 1. Create a KMeans model using the loop counter for the n_clusters
    model = KMeans(n_clusters=k, random_state=1)
    
    # 2. Fit the model to the data using `df_market_data_scaled`
    model.fit(df_market_data_scaled)
    
    # 3. Append the model.inertia_ to the inertia list
    inertia.append(model.inertia_)


# Create a dictionary with the data to plot the Elbow curve
elbow_data = {
    'k': k_values,
    'inertia': inertia
}

# Create a DataFrame with the data to plot the Elbow curve
df_elbow = pd.DataFrame(elbow_data)


# Plot a line chart with all the inertia values computed with
# the different values of k to visually identify the optimal value for k.
# Create the Elbow curve plot with hvplot
elbow = df_elbow.hvplot.line(
    x='k',
    y='inertia',
    xticks=k_values,
    title='Elbow Curve for K-Means Clustering (Original Scaled Data)'
)

# Display the plot
elbow











# Initialize the K-Means model using the best value for k
kmeans = KMeans(n_clusters=4, random_state=1)


# Fit the K-Means model using the scaled DataFrame
kmeans.fit(df_market_data_scaled)


# Predict the clusters to group the cryptocurrencies using the scaled DataFrame
clusters = kmeans.predict(df_market_data_scaled)

# Print the resulting array of cluster values.
print(clusters)


# Create a copy of the scaled DataFrame
df_market_data_scaled_with_clusters = df_market_data_scaled.copy()


# Add a new column to the copy of the scaled DataFrame with the predicted clusters
df_market_data_scaled_with_clusters['Cluster'] = clusters

# Display the copy of the scaled DataFrame
df_market_data_scaled_with_clusters.head()


# Create a scatter plot using hvPlot by setting
# `x="price_change_percentage_24h"` and `y="price_change_percentage_7d"`.
# Color the graph points with the labels found using K-Means and
# add the crypto name in the `hover_cols` parameter to identify
# the cryptocurrency represented by each data point.
scatter_plot = df_market_data_scaled_with_clusters.hvplot.scatter(
    x='price_change_percentage_24h',
    y='price_change_percentage_7d',
    c='Cluster',
    cmap='Category20',
    hover_cols=['coin_id']
)

# Display the scatter plot
scatter_plot








# Create a PCA model instance and set `n_components=3`.
pca = PCA(n_components=3)


# Use the PCA model with `fit_transform` to reduce the original scaled DataFrame
# down to three principal components.
pca_data = pca.fit_transform(df_market_data_scaled)
df_pca = pd.DataFrame(pca_data, columns=['PC1', 'PC2', 'PC3'])

# View the scaled PCA data
df_pca.head()


# Retrieve the explained variance to determine how much information
# can be attributed to each principal component.
explained_variance = pca.explained_variance_ratio_

# Display the explained variance
print(f"Explained Variance Ratios: {explained_variance}")





# Create a new DataFrame with the PCA data.
df_pca = pd.DataFrame(pca_data, columns=['PC1', 'PC2', 'PC3'])

# Copy the crypto names from the original scaled DataFrame
crypto_names = df_market_data_scaled.index

# Set the coin_id column as index
df_pca['coin_id'] = crypto_names
df_pca = df_pca.set_index('coin_id')

# Display the scaled PCA DataFrame
df_pca.head()








# Create a list with the number of k-values from 1 to 11
k_values = list(range(1, 12))


# Create an empty list to store the inertia values
inertia = []

# Create a for loop to compute the inertia with each possible value of k
for k in k_values:
    # 1. Create a KMeans model using the loop counter for the n_clusters
    model = KMeans(n_clusters=k, random_state=1)
    
    # 2. Fit the model to the data using df_market_data_pca
    model.fit(df_pca)
    
    # 3. Append the model.inertia_ to the inertia list
    inertia.append(model.inertia_)


# Create a dictionary with the data to plot the Elbow curve
elbow_data = {
    'k': k_values,
    'inertia': inertia
}

# Create a DataFrame with the data to plot the Elbow curve
df_elbow = pd.DataFrame(elbow_data)


# Plot a line chart with all the inertia values computed with
# the different values of k to visually identify the optimal value for k.
elbow_plot = df_elbow.hvplot.line(
    x='k',
    y='inertia',
    xticks=k_values,
    title='Elbow Curve for K-Means Clustering (PCA Data)'
)

# Display the plot
elbow_plot








# Initialize the K-Means model using the best value for k
kmeans = KMeans(n_clusters=4, random_state=1)


# Fit the K-Means model using the PCA data
kmeans.fit(df_pca)


# Predict the clusters to group the cryptocurrencies using the scaled PCA DataFrame
pca_clusters = kmeans.predict(df_pca)

# Print the resulting array of cluster values.
print(pca_clusters)


# Create a copy of the scaled PCA DataFrame
df_pca_with_clusters = df_pca.copy()

# Add a new column to the copy of the PCA DataFrame with the predicted clusters
df_pca_with_clusters['Cluster'] = pca_clusters

# Display the copy of the scaled PCA DataFrame
df_pca_with_clusters.head()


# Create a scatter plot using hvPlot by setting
# `x="PC1"` and `y="PC2"`.
# Color the graph points with the labels found using K-Means and
# add the crypto name in the `hover_cols` parameter to identify
# the cryptocurrency represented by each data point.
scatter_plot = df_pca_with_clusters.hvplot.scatter(
    x='PC1',
    y='PC2',
    c='Cluster',
    cmap='Category20',
    hover_cols=['coin_id'],
    title='PCA Scatter Plot with K-Means Clustering'
)

# Display the scatter plot
scatter_plot





# Composite plot to contrast the Elbow curves
elbow_comparison = elbow + elbow_plot

# Display the composite scatter plot
elbow_comparison


# Composite plot to contrast the clusters
# Combine the two scatter plots into a composite plot
cluster_comparison = scatter_plot + scatter_plot

# Display the composite scatter plot
cluster_comparison



